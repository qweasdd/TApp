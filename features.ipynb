{
 "cells": [
  {
   "cell_type": "code",
   "execution_count": 3,
   "metadata": {},
   "outputs": [],
   "source": [
    "import pandas as pd\n",
    "import numpy as np"
   ]
  },
  {
   "cell_type": "code",
   "execution_count": 4,
   "metadata": {
    "collapsed": true
   },
   "outputs": [],
   "source": [
    "data = pd.read_csv(r'D:\\data\\codedataLemm.csv', encoding= 'utf8')"
   ]
  },
  {
   "cell_type": "code",
   "execution_count": 128,
   "metadata": {},
   "outputs": [
    {
     "data": {
      "text/plain": [
       "85"
      ]
     },
     "execution_count": 128,
     "metadata": {},
     "output_type": "execute_result"
    }
   ],
   "source": [
    "len(data.columns)"
   ]
  },
  {
   "cell_type": "code",
   "execution_count": 32,
   "metadata": {},
   "outputs": [
    {
     "data": {
      "text/plain": [
       "Index(['FileLength', 'CommentaryLines', 'CommentaryProportion',\n",
       "       'AverageClassLength', 'AverageMethodLength', 'MaintainabilityIndex',\n",
       "       'CyclomaticComplexity', 'ClassAmount', 'InterfaceAmount',\n",
       "       'StructAmount', 'NamespaceAmount', 'AverageClassNameLength',\n",
       "       'AverageVariableNameLength', 'AverageMethodNameLength',\n",
       "       'AverageStructNameLength', 'AverageStructLength',\n",
       "       'AverageInterfaceLength', 'AverageInterfaceNameLength', 'LinesOfCode',\n",
       "       'PublicAmount', 'PrivateAmount', 'InternalAmount', 'ProtectedAmount',\n",
       "       'AbstractAmount', 'ConstAmount', 'EventAmount', 'ExternAmount',\n",
       "       'NewAmount', 'OverrideAmount', 'PartialAmount', 'ReadonlyAmount',\n",
       "       'SealedAmount', 'StaticAmount', 'UnsafeAmount', 'VirtualAmount',\n",
       "       'VolatileAmount', 'Names', 'AverageMethodParametersAmount',\n",
       "       'AsyncAmount', 'AverageClassFieldsAmount', 'AverageStructFieldsAmount',\n",
       "       'AverageClassPropertiesAmount', 'AverageStructPropertiesAmount',\n",
       "       'AverageInterfacePropertiesAmount', 'AverageClassMethodsAmount',\n",
       "       'AverageStructMethodsAmount', 'AverageInterfaceMethodsAmount',\n",
       "       'MedianClassLength', 'MedianMethodLength', 'MedianClassNameLength',\n",
       "       'MedianVariableNameLength', 'MedianStructNameLength',\n",
       "       'MedianStructLength', 'MedianInterfaceLength',\n",
       "       'MedianInterfaceNameLength', 'MedianMethodParametersAmount',\n",
       "       'MedianClassFieldsAmount', 'MedianStructFieldsAmount',\n",
       "       'MedianClassPropertiesAmount', 'MedianStructPropertiesAmount',\n",
       "       'MedianInterfacePropertiesAmount', 'MedianClassMethodsAmount',\n",
       "       'MedianStructMethodsAmount', 'MedianInterfaceMethodsAmount',\n",
       "       'AverageLineLength', 'MedianLineLength', 'MedianMethodNameLength',\n",
       "       'PrefixUnderscoreNamesAmount', 'PrefixUnderscoreNamesFraction',\n",
       "       'UnderscoreNamesAmount', 'UnderscoreNamesFraction',\n",
       "       'LowercaseNamesAmount', 'LowercaseNamesFraction',\n",
       "       'UppercaseWithUnderscoreNamesAmount',\n",
       "       'UppercaseWithUnderscoreNamesFraction', 'PascalCaseNamesAmount',\n",
       "       'PascalCaseNamesFraction', 'CamelCaseNamesAmount',\n",
       "       'CamelCaseNamesFraction', 'WordsFromNames', 'AverageCommentaryLength',\n",
       "       'MedianCommentaryLength', 'CommentaryContent', 'lemmWordsFromNames',\n",
       "       'lemmCommentaryContent'],\n",
       "      dtype='object')"
      ]
     },
     "execution_count": 32,
     "metadata": {},
     "output_type": "execute_result"
    }
   ],
   "source": [
    "data.columns"
   ]
  },
  {
   "cell_type": "markdown",
   "metadata": {},
   "source": [
    "### Длина файла"
   ]
  },
  {
   "cell_type": "code",
   "execution_count": 14,
   "metadata": {},
   "outputs": [
    {
     "data": {
      "text/plain": [
       "41"
      ]
     },
     "execution_count": 14,
     "metadata": {},
     "output_type": "execute_result"
    }
   ],
   "source": [
    "data['FileLength'].min()"
   ]
  },
  {
   "cell_type": "code",
   "execution_count": 13,
   "metadata": {},
   "outputs": [
    {
     "data": {
      "text/plain": [
       "9951654"
      ]
     },
     "execution_count": 13,
     "metadata": {},
     "output_type": "execute_result"
    }
   ],
   "source": [
    "data['FileLength'].max()"
   ]
  },
  {
   "cell_type": "code",
   "execution_count": 10,
   "metadata": {},
   "outputs": [
    {
     "data": {
      "text/plain": [
       "2285.0"
      ]
     },
     "execution_count": 10,
     "metadata": {},
     "output_type": "execute_result"
    }
   ],
   "source": [
    "data['FileLength'].median()"
   ]
  },
  {
   "cell_type": "code",
   "execution_count": 16,
   "metadata": {},
   "outputs": [
    {
     "data": {
      "text/plain": [
       "5606.0"
      ]
     },
     "execution_count": 16,
     "metadata": {},
     "output_type": "execute_result"
    }
   ],
   "source": [
    "np.percentile(data['FileLength'], 75, axis=0)"
   ]
  },
  {
   "cell_type": "markdown",
   "metadata": {},
   "source": [
    "### Количество строк комментариев и отношение к общему числу строк"
   ]
  },
  {
   "cell_type": "code",
   "execution_count": 40,
   "metadata": {},
   "outputs": [
    {
     "data": {
      "text/plain": [
       "3    7422\n",
       "0    6292\n",
       "1    4651\n",
       "2    3291\n",
       "4    2969\n",
       "6    2558\n",
       "5    1704\n",
       "7    1335\n",
       "8    1151\n",
       "9    1015\n",
       "Name: CommentaryLines, dtype: int64"
      ]
     },
     "execution_count": 40,
     "metadata": {},
     "output_type": "execute_result"
    }
   ],
   "source": [
    "data['CommentaryLines'].value_counts()[:10]"
   ]
  },
  {
   "cell_type": "code",
   "execution_count": 25,
   "metadata": {},
   "outputs": [
    {
     "data": {
      "text/plain": [
       "count    51887.000000\n",
       "mean        22.923565\n",
       "std        121.310589\n",
       "min          0.000000\n",
       "25%          2.000000\n",
       "50%          5.000000\n",
       "75%         18.000000\n",
       "max      14101.000000\n",
       "Name: CommentaryLines, dtype: float64"
      ]
     },
     "execution_count": 25,
     "metadata": {},
     "output_type": "execute_result"
    }
   ],
   "source": [
    "data['CommentaryLines'].describe()"
   ]
  },
  {
   "cell_type": "code",
   "execution_count": 77,
   "metadata": {},
   "outputs": [
    {
     "data": {
      "text/plain": [
       "count    51887.000000\n",
       "mean         0.230079\n",
       "std          0.220506\n",
       "min          0.000000\n",
       "25%          0.053628\n",
       "50%          0.159109\n",
       "75%          0.355072\n",
       "max          1.000000\n",
       "Name: CommentaryProportion, dtype: float64"
      ]
     },
     "execution_count": 77,
     "metadata": {},
     "output_type": "execute_result"
    }
   ],
   "source": [
    "data['CommentaryProportion'].describe()"
   ]
  },
  {
   "cell_type": "markdown",
   "metadata": {},
   "source": [
    "### MaintainabilityIndex и цикломатическая сложность"
   ]
  },
  {
   "cell_type": "code",
   "execution_count": 44,
   "metadata": {},
   "outputs": [
    {
     "data": {
      "text/plain": [
       "0.000000      17085\n",
       "100.000000     6967\n",
       "95.404563       138\n",
       "96.204811       135\n",
       "97.562076       131\n",
       "91.316928        99\n",
       "93.487696        96\n",
       "91.191024        84\n",
       "96.771025        73\n",
       "95.764431        57\n",
       "Name: MaintainabilityIndex, dtype: int64"
      ]
     },
     "execution_count": 44,
     "metadata": {},
     "output_type": "execute_result"
    }
   ],
   "source": [
    "data['MaintainabilityIndex'].value_counts().head(10)"
   ]
  },
  {
   "cell_type": "markdown",
   "metadata": {},
   "source": [
    "Для трети не посчитался"
   ]
  },
  {
   "cell_type": "code",
   "execution_count": 51,
   "metadata": {},
   "outputs": [
    {
     "data": {
      "text/plain": [
       "count    51887.000000\n",
       "mean        37.967526\n",
       "std        571.154615\n",
       "min          0.000000\n",
       "25%          0.000000\n",
       "50%          4.000000\n",
       "75%         15.000000\n",
       "max      62351.000000\n",
       "Name: CyclomaticComplexity, dtype: float64"
      ]
     },
     "execution_count": 51,
     "metadata": {},
     "output_type": "execute_result"
    }
   ],
   "source": [
    "data['CyclomaticComplexity'].describe()"
   ]
  },
  {
   "cell_type": "code",
   "execution_count": 54,
   "metadata": {},
   "outputs": [
    {
     "data": {
      "text/plain": [
       "405.0"
      ]
     },
     "execution_count": 54,
     "metadata": {},
     "output_type": "execute_result"
    }
   ],
   "source": [
    "np.percentile(data['CyclomaticComplexity'], 99)"
   ]
  },
  {
   "cell_type": "code",
   "execution_count": 63,
   "metadata": {},
   "outputs": [
    {
     "data": {
      "text/plain": [
       "count      517.000000\n",
       "mean      2148.282398\n",
       "std       5304.494846\n",
       "min        406.000000\n",
       "25%        532.000000\n",
       "50%        765.000000\n",
       "75%       1551.000000\n",
       "max      62351.000000\n",
       "Name: CyclomaticComplexity, dtype: float64"
      ]
     },
     "execution_count": 63,
     "metadata": {},
     "output_type": "execute_result"
    }
   ],
   "source": [
    "data[data['CyclomaticComplexity'] > 405]['CyclomaticComplexity'].describe()"
   ]
  },
  {
   "cell_type": "markdown",
   "metadata": {},
   "source": [
    "### Количество типов"
   ]
  },
  {
   "cell_type": "code",
   "execution_count": 67,
   "metadata": {},
   "outputs": [
    {
     "data": {
      "text/plain": [
       "['ClassAmount', 'InterfaceAmount', 'StructAmount', 'NamespaceAmount']"
      ]
     },
     "execution_count": 67,
     "metadata": {},
     "output_type": "execute_result"
    }
   ],
   "source": [
    "data.columns[7:11].tolist()"
   ]
  },
  {
   "cell_type": "markdown",
   "metadata": {},
   "source": [
    "### Средняя длинна имени( для всех средних значений есть аналоги с медианой)"
   ]
  },
  {
   "cell_type": "code",
   "execution_count": 71,
   "metadata": {
    "scrolled": true
   },
   "outputs": [
    {
     "data": {
      "text/plain": [
       "['AverageClassNameLength',\n",
       " 'AverageVariableNameLength',\n",
       " 'AverageMethodNameLength',\n",
       " 'AverageStructNameLength']"
      ]
     },
     "execution_count": 71,
     "metadata": {},
     "output_type": "execute_result"
    }
   ],
   "source": [
    "data.columns[11:15].tolist()"
   ]
  },
  {
   "cell_type": "markdown",
   "metadata": {},
   "source": [
    "### Средняя длина типа"
   ]
  },
  {
   "cell_type": "markdown",
   "metadata": {},
   "source": [
    "AverageClassLength  AverageStructLength  AverageInterfaceLength "
   ]
  },
  {
   "cell_type": "markdown",
   "metadata": {},
   "source": [
    "### Количество модификаторов"
   ]
  },
  {
   "cell_type": "code",
   "execution_count": 87,
   "metadata": {},
   "outputs": [
    {
     "data": {
      "text/plain": [
       "Index(['PublicAmount', 'PrivateAmount', 'InternalAmount', 'ProtectedAmount',\n",
       "       'AbstractAmount', 'ConstAmount', 'EventAmount', 'ExternAmount',\n",
       "       'NewAmount', 'OverrideAmount', 'PartialAmount', 'ReadonlyAmount',\n",
       "       'SealedAmount', 'StaticAmount', 'UnsafeAmount', 'VirtualAmount',\n",
       "       'VolatileAmount'],\n",
       "      dtype='object')"
      ]
     },
     "execution_count": 87,
     "metadata": {},
     "output_type": "execute_result"
    }
   ],
   "source": [
    "data.columns[19:36]"
   ]
  },
  {
   "cell_type": "markdown",
   "metadata": {},
   "source": [
    "### Список имён в файле"
   ]
  },
  {
   "cell_type": "code",
   "execution_count": 96,
   "metadata": {},
   "outputs": [
    {
     "name": "stdout",
     "output_type": "stream",
     "text": [
      "1 :  DynamicType _properties TryGetMember binder result binderName value TrySetMember binder value \n",
      "\n",
      "2 :  UploadRequestSpecs when_sending_binary_data_as_put_it_should_upload_it_succesfully httpClient imageFile when_sending_binary_data_as_multipart_post_it_should_upload_it_succesfully httpClient imageFile data files \n",
      "\n",
      "3 :  Customer Name Email Phone Fax \n",
      "\n",
      "4 :  Hello Name HelloResponse Result Redirect Name Files Name CookieInfo Name Value SomeData Id SomeDataResponse SomeValue HelloService OnGet request OnPut request OnPost request OnDelete request SomeDataService OnGet request FilesService OnPut request OnPost request CookieService OnGet request OnPut request RedirectorService OnGet request ServiceStackHost Configure container \n",
      "\n",
      "5 :  CacheControl NoCache MaxAge MaxAgeWithMaxStale MaxAgeWithMinFresh \n",
      "\n"
     ]
    }
   ],
   "source": [
    "for l, i in enumerate(data['Names'][:5]):\n",
    "    print(l + 1, ': ', i, '\\n')"
   ]
  },
  {
   "cell_type": "markdown",
   "metadata": {},
   "source": [
    "### Среднее количество полей, свойств, методов у типов( и медиана)"
   ]
  },
  {
   "cell_type": "markdown",
   "metadata": {},
   "source": [
    "Например, AverageInterfaceMethodsAmount, MedianStructFieldsAmount"
   ]
  },
  {
   "cell_type": "markdown",
   "metadata": {},
   "source": [
    "### Стили наименований( количество и общее число)"
   ]
  },
  {
   "cell_type": "code",
   "execution_count": 108,
   "metadata": {},
   "outputs": [
    {
     "data": {
      "text/plain": [
       "Index(['PrefixUnderscoreNamesAmount', 'PrefixUnderscoreNamesFraction',\n",
       "       'UnderscoreNamesAmount', 'UnderscoreNamesFraction',\n",
       "       'LowercaseNamesAmount', 'LowercaseNamesFraction',\n",
       "       'UppercaseWithUnderscoreNamesAmount',\n",
       "       'UppercaseWithUnderscoreNamesFraction', 'PascalCaseNamesAmount',\n",
       "       'PascalCaseNamesFraction', 'CamelCaseNamesAmount',\n",
       "       'CamelCaseNamesFraction'],\n",
       "      dtype='object')"
      ]
     },
     "execution_count": 108,
     "metadata": {},
     "output_type": "execute_result"
    }
   ],
   "source": [
    "data.columns[67:79]"
   ]
  },
  {
   "cell_type": "markdown",
   "metadata": {},
   "source": [
    "### Средняя длина комментария в файле и содержимое всех комментариев в файле"
   ]
  },
  {
   "cell_type": "code",
   "execution_count": 113,
   "metadata": {},
   "outputs": [
    {
     "data": {
      "text/plain": [
       "0.00       6303\n",
       "200.00     5492\n",
       "160.00     2843\n",
       "165.00     1680\n",
       "202.00      788\n",
       "358.00      537\n",
       "1102.00     429\n",
       "875.00      400\n",
       "163.00      338\n",
       "198.75      281\n",
       "172.00      256\n",
       "195.00      226\n",
       "131.00      147\n",
       "435.00      133\n",
       "115.00      124\n",
       "Name: AverageCommentaryLength, dtype: int64"
      ]
     },
     "execution_count": 113,
     "metadata": {},
     "output_type": "execute_result"
    }
   ],
   "source": [
    "data['AverageCommentaryLength'].value_counts().head(15)"
   ]
  },
  {
   "cell_type": "code",
   "execution_count": 127,
   "metadata": {},
   "outputs": [
    {
     "name": "stdout",
     "output_type": "stream",
     "text": [
      "1 :   ReSharper disable once ClassNeverInstantiated.Global Define the Web Services AppHost  \n",
      "\n",
      "2 :   Multipart Form  header  ending -- to the boundary  \n",
      "\n",
      "3 :   Distributed under the BSD License  =================================   Copyright (c) 2010, Hadi Hariri  All rights reserved.   Redistribution and use in source and binary forms, with or without  modification, are permitted provided that the following conditions are met:      * Redistributions of source code must retain the above copyright        notice, this list of conditions and the following disclaimer.      * Redistributions in binary form must reproduce the above copyright        notice, this list of conditions and the following disclaimer in the        documentation and/or other materials provided with the distribution.      * Neither the name of Hadi Hariri nor the        names of its contributors may be used to endorse or promote products        derived from this software without specific prior written permission.   THIS SOFTWARE IS PROVIDED BY THE COPYRIGHT HOLDERS AND CONTRIBUTORS \"AS IS\" AND  ANY EXPRESS OR IMPLIED WARRANTIES, INCLUDING, BUT NOT LIMITED TO, THE IMPLIED  WARRANTIES OF MERCHANTABILITY AND FITNESS FOR A PARTICULAR PURPOSE ARE  DISCLAIMED. IN NO EVENT SHALL<COPYRIGHT HOLDER> BE LIABLE FOR ANY  DIRECT, INDIRECT, INCIDENTAL, SPECIAL, EXEMPLARY, OR CONSEQUENTIAL DAMAGES  (INCLUDING, BUT NOT LIMITED TO, PROCUREMENT OF SUBSTITUTE GOODS OR SERVICES;  LOSS OF USE, DATA, OR PROFITS; OR BUSINESS INTERRUPTION) HOWEVER CAUSED AND  ON ANY THEORY OF LIABILITY, WHETHER IN CONTRACT, STRICT LIABILITY, OR TORT  (INCLUDING NEGLIGENCE OR OTHERWISE) ARISING IN ANY WAY OUT OF THE USE OF THIS  SOFTWARE, EVEN IF ADVISED OF THE POSSIBILITY OF SUCH DAMAGE.  =============================================================    Parts of this Software use JsonFX Serialization Library which is distributed under the MIT License:   Distributed under the terms of an MIT-style license:   The MIT License   Copyright (c) 2006-2009 Stephen M. McKamey   Permission is hereby granted, free of charge, to any person obtaining a copy  of this software and associated documentation files (the \"Software\"), to deal  in the Software without restriction, including without limitation the rights  to use, copy, modify, merge, publish, distribute, sublicense, and/or sell  copies of the Software, and to permit persons to whom the Software is  furnished to do so, subject to the following conditions:   The above copyright notice and this permission notice shall be included in  all copies or substantial portions of the Software.   THE SOFTWARE IS PROVIDED \"AS IS\", WITHOUT WARRANTY OF ANY KIND, EXPRESS OR  IMPLIED, INCLUDING BUT NOT LIMITED TO THE WARRANTIES OF MERCHANTABILITY,  FITNESS FOR A PARTICULAR PURPOSE AND NONINFRINGEMENT. IN NO EVENT SHALL THE  AUTHORS OR COPYRIGHT HOLDERS BE LIABLE FOR ANY CLAIM, DAMAGES OR OTHER  LIABILITY, WHETHER IN AN ACTION OF CONTRACT, TORT OR OTHERWISE, ARISING FROM,  OUT OF OR IN CONNECTION WITH THE SOFTWARE OR THE USE OR OTHER DEALINGS IN  THE SOFTWARE.  General Information about an assembly is controlled through the following  set of attributes. Change these attribute values to modify the information  associated with an assembly.  Setting ComVisible to false makes the types in this assembly not visible  to COM components.  If you need to access a type in this assembly from  COM, set the ComVisible attribute to true on that type.  The following GUID is for the ID of the typelib if this project is exposed to COM  Version information for an assembly managed by GitVersionTask  \n",
      "\n",
      "4 :  / <inheritdoc /> / <inheritdoc /> / <inheritdoc /> / <inheritdoc /> / <inheritdoc />  \n",
      "\n",
      "5 :   TODO  \n",
      "\n",
      "6 :   Distributed under the BSD License   YouTrackSharp Copyright (c) 2010-2012, Hadi Hariri and Contributors  All rights reserved.    Redistribution and use in source and binary forms, with or without   modification, are permitted provided that the following conditions are met:       * Redistributions of source code must retain the above copyright          notice, this list of conditions and the following disclaimer.       * Redistributions in binary form must reproduce the above copyright          notice, this list of conditions and the following disclaimer in the          documentation and/or other materials provided with the distribution.       * Neither the name of Hadi Hariri nor the          names of its contributors may be used to endorse or promote products          derived from this software without specific prior written permission.     THIS SOFTWARE IS PROVIDED BY THE COPYRIGHT HOLDERS AND CONTRIBUTORS    \"AS IS\" AND ANY EXPRESS OR IMPLIED WARRANTIES, INCLUDING, BUT NOT LIMITED    TO, THE IMPLIED WARRANTIES OF MERCHANTABILITY AND FITNESS FOR A    PARTICULAR PURPOSE ARE DISCLAIMED. IN NO EVENT SHALL    <COPYRIGHTHOLDER> BE LIABLE FOR ANY DIRECT, INDIRECT, INCIDENTAL,    SPECIAL,EXEMPLARY, OR CONSEQUENTIAL DAMAGES (INCLUDING, BUT NOT    LIMITED  TO, PROCUREMENT OF SUBSTITUTE GOODS OR SERVICES; LOSS OF USE,    DATA, OR PROFITS; OR BUSINESS INTERRUPTION) HOWEVER CAUSED AND  ON ANY    THEORY OF LIABILITY, WHETHER IN CONTRACT, STRICT LIABILITY, OR TORT    (INCLUDING NEGLIGENCE OR OTHERWISE) ARISING IN ANY WAY OUT OF THE USE OF    THIS SOFTWARE, EVEN IF ADVISED OF THE POSSIBILITY OF SUCH DAMAGE.   TODO: This class needs cleaning up and abstracting the encoder one more level http://msdn.microsoft.com/en-us/library/system.net.httpwebrequest.timeout.aspx  \n",
      "\n"
     ]
    }
   ],
   "source": [
    "for l, i in enumerate(data['CommentaryContent'].unique()[2:8]):\n",
    "    print(l+1 , ': ', i, '\\n')"
   ]
  },
  {
   "cell_type": "code",
   "execution_count": null,
   "metadata": {
    "collapsed": true
   },
   "outputs": [],
   "source": []
  }
 ],
 "metadata": {
  "kernelspec": {
   "display_name": "Python 3",
   "language": "python",
   "name": "python3"
  },
  "language_info": {
   "codemirror_mode": {
    "name": "ipython",
    "version": 3
   },
   "file_extension": ".py",
   "mimetype": "text/x-python",
   "name": "python",
   "nbconvert_exporter": "python",
   "pygments_lexer": "ipython3",
   "version": "3.6.1"
  }
 },
 "nbformat": 4,
 "nbformat_minor": 2
}
